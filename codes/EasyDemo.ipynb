{
 "cells": [
  {
   "cell_type": "code",
   "execution_count": 12,
   "id": "0181bad2",
   "metadata": {},
   "outputs": [
    {
     "data": {
      "text/plain": [
       "1000001-element Vector{Float64}:\n",
       " 0.9999927313119636\n",
       " 0.9999932277243634\n",
       " 1.0000056098095207\n",
       " 1.0000149499187923\n",
       " 1.0000148115405672\n",
       " 1.000014833428176\n",
       " 1.0000187821936362\n",
       " 1.0000199967117098\n",
       " 1.0000241198246058\n",
       " 1.0000320478382367\n",
       " 1.000024760282036\n",
       " 1.0000333461561246\n",
       " 1.0000297167560819\n",
       " ⋮\n",
       " 6.859788145285\n",
       " 6.859789684460501\n",
       " 6.859798234297148\n",
       " 6.859811169491816\n",
       " 6.859817842882845\n",
       " 6.85982299058294\n",
       " 6.859826217645485\n",
       " 6.859838995677534\n",
       " 6.859848545263601\n",
       " 6.859852704115069\n",
       " 6.859859228657869\n",
       " 6.859875847442446"
      ]
     },
     "execution_count": 12,
     "metadata": {},
     "output_type": "execute_result"
    }
   ],
   "source": [
    "using Random\n",
    "#using Polynomials\n",
    "N = 1e-6\n",
    "x = 0:N:1\n",
    "y = ℯ*x.^2 + pi*x .+ 1 + randn(length(x))./(length(x)/5)"
   ]
  },
  {
   "cell_type": "code",
   "execution_count": 7,
   "id": "9db3381c",
   "metadata": {
    "scrolled": true
   },
   "outputs": [
    {
     "ename": "LoadError",
     "evalue": "UndefVarError: Polynomials not defined",
     "output_type": "error",
     "traceback": [
      "UndefVarError: Polynomials not defined",
      "",
      "Stacktrace:",
      " [1] top-level scope",
      "   @ .\\timing.jl:210 [inlined]",
      " [2] top-level scope",
      "   @ .\\In[7]:0",
      " [3] eval",
      "   @ .\\boot.jl:360 [inlined]",
      " [4] include_string(mapexpr::typeof(REPL.softscope), mod::Module, code::String, filename::String)",
      "   @ Base .\\loading.jl:1116"
     ]
    }
   ],
   "source": [
    "@time quadfit=fit(x,y,2)\n",
    "#@time reverse([x ones(length(x))]\\y)"
   ]
  },
  {
   "cell_type": "code",
   "execution_count": null,
   "id": "e6019878",
   "metadata": {},
   "outputs": [],
   "source": [
    "a,b = 3,3\n",
    "dt = 0.1\n",
    "trange = 0:dt:1\n",
    "x0 = x[0]\n",
    "for t in trange[2:]\n",
    "    euler_y = x0 + dt * (a*x0^2 + b*x0)\n",
    "end"
   ]
  }
 ],
 "metadata": {
  "kernelspec": {
   "display_name": "Julia 1.6.2",
   "language": "julia",
   "name": "julia-1.6"
  },
  "language_info": {
   "file_extension": ".jl",
   "mimetype": "application/julia",
   "name": "julia",
   "version": "1.6.2"
  }
 },
 "nbformat": 4,
 "nbformat_minor": 5
}
