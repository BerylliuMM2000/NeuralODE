{
 "cells": [
  {
   "cell_type": "code",
   "execution_count": 1,
   "id": "417283ca",
   "metadata": {},
   "outputs": [],
   "source": [
    "using Flux\n",
    "using DiffEqFlux\n",
    "using DifferentialEquations\n",
    "using Plots"
   ]
  },
  {
   "cell_type": "code",
   "execution_count": 2,
   "id": "e418e65f",
   "metadata": {},
   "outputs": [
    {
     "data": {
      "text/plain": [
       "true_y (generic function with 1 method)"
      ]
     },
     "execution_count": 2,
     "metadata": {},
     "output_type": "execute_result"
    }
   ],
   "source": [
    "true_x(t) = exp(-4*t)* (-64*exp(t) + 15*exp(8*t) + 49)/59\n",
    "true_y(t) = exp(-4*t)*(160*exp(t) - 28*exp(2*t) + 15*exp(8*t) - 147) /112"
   ]
  },
  {
   "cell_type": "code",
   "execution_count": 5,
   "id": "108a5a4c",
   "metadata": {},
   "outputs": [
    {
     "data": {
      "text/plain": [
       "ode_system! (generic function with 1 method)"
      ]
     },
     "execution_count": 5,
     "metadata": {},
     "output_type": "execute_result"
    }
   ],
   "source": [
    "function ode_system!(dxdydz,xyz,param,t)\n",
    "    σ,ρ,β = param\n",
    "    dxdydz[1] = σ*(xyz[2]-xyz[1])\n",
    "    dxdydz[2] = xyz[1] * (ρ-xyz[3]) - xyz[2]\n",
    "    dxdydz[3] = xyz[1]*xyz[2] - β*xyz[3]\n",
    "end\n",
    "\n",
    "#true_params = [2,4,1,-2, 3,-2,2,-3]"
   ]
  },
  {
   "cell_type": "code",
   "execution_count": 7,
   "id": "1e080261",
   "metadata": {},
   "outputs": [
    {
     "data": {
      "text/plain": [
       "3-element Vector{Float64}:\n",
       " 1.0\n",
       " 1.0\n",
       " 1.0"
      ]
     },
     "execution_count": 7,
     "metadata": {},
     "output_type": "execute_result"
    }
   ],
   "source": [
    "trange = 0.0:0.01:1.0   # Time range\n",
    "u0 = [0.0,0.0,0.0]    # Initial values\n",
    "tspan = (0.0,1.0)\n",
    "p = ones(3)    # Initial guess of parameters"
   ]
  },
  {
   "cell_type": "code",
   "execution_count": 9,
   "id": "d189df19",
   "metadata": {},
   "outputs": [
    {
     "data": {
      "text/plain": [
       "net (generic function with 1 method)"
      ]
     },
     "execution_count": 9,
     "metadata": {},
     "output_type": "execute_result"
    }
   ],
   "source": [
    "# The single ODE layer\n",
    "\n",
    "prob = ODEProblem(ode_system!, u0, tspan, p)\n",
    "\n",
    "function net()\n",
    "    solve(prob, Tsit5(), p=p, saveat=trange)\n",
    "end"
   ]
  },
  {
   "cell_type": "code",
   "execution_count": 10,
   "id": "7f787034",
   "metadata": {},
   "outputs": [
    {
     "ename": "LoadError",
     "evalue": "UndefVarError: loss_func not defined",
     "output_type": "error",
     "traceback": [
      "UndefVarError: loss_func not defined",
      "",
      "Stacktrace:",
      " [1] top-level scope",
      "   @ In[10]:9",
      " [2] eval",
      "   @ .\\boot.jl:360 [inlined]",
      " [3] include_string(mapexpr::typeof(REPL.softscope), mod::Module, code::String, filename::String)",
      "   @ Base .\\loading.jl:1116"
     ]
    }
   ],
   "source": [
    "epochs = 1000\n",
    "learning_rate = 0.05\n",
    "data = Iterators.repeated((), epochs)\n",
    "opt = ADAM(learning_rate)\n",
    "callback_func = function ()\n",
    "  println(\"loss: \", loss_func())\n",
    "end\n",
    "fparams = Flux.params(p)\n",
    "Flux.train!(loss_func, fparams, data, opt, cb=callback_func)\n"
   ]
  },
  {
   "cell_type": "code",
   "execution_count": null,
   "id": "5e761433",
   "metadata": {},
   "outputs": [],
   "source": []
  }
 ],
 "metadata": {
  "kernelspec": {
   "display_name": "Julia 1.6.2",
   "language": "julia",
   "name": "julia-1.6"
  },
  "language_info": {
   "file_extension": ".jl",
   "mimetype": "application/julia",
   "name": "julia",
   "version": "1.6.2"
  }
 },
 "nbformat": 4,
 "nbformat_minor": 5
}
