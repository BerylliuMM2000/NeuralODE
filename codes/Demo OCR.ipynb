{
 "cells": [
  {
   "cell_type": "code",
   "execution_count": 2,
   "id": "e8223001",
   "metadata": {},
   "outputs": [
    {
     "name": "stderr",
     "output_type": "stream",
     "text": [
      "\u001b[32m\u001b[1m    Updating\u001b[22m\u001b[39m registry at `C:\\Users\\25674\\.julia\\registries\\General`\n",
      "\u001b[32m\u001b[1m    Updating\u001b[22m\u001b[39m git-repo `https://github.com/JuliaRegistries/General.git`\n",
      "\u001b[32m\u001b[1m   Resolving\u001b[22m\u001b[39m package versions...\n",
      "\u001b[32m\u001b[1m    Updating\u001b[22m\u001b[39m `C:\\Users\\25674\\.julia\\environments\\v1.6\\Project.toml`\n",
      " \u001b[90m [429524aa] \u001b[39m\u001b[92m+ Optim v1.5.0\u001b[39m\n",
      "\u001b[32m\u001b[1m  No Changes\u001b[22m\u001b[39m to `C:\\Users\\25674\\.julia\\environments\\v1.6\\Manifest.toml`\n"
     ]
    }
   ],
   "source": [
    "import Pkg; Pkg.add(\"Optim\")"
   ]
  },
  {
   "cell_type": "code",
   "execution_count": 21,
   "id": "4a95d420",
   "metadata": {},
   "outputs": [],
   "source": [
    "using PyPlot, Random, LinearAlgebra, Optim   # Packages needed"
   ]
  },
  {
   "cell_type": "code",
   "execution_count": 22,
   "id": "4a8b5e7a",
   "metadata": {},
   "outputs": [
    {
     "data": {
      "image/png": "[encoded data removed]",
      "text/plain": [
       "Figure(PyObject <Figure size 640x480 with 4 Axes>)"
      ]
     },
     "metadata": {},
     "output_type": "display_data"
    }
   ],
   "source": [
    "charstr = \"\"\"\n",
    "          OOOOOO  OOOOOO  OOOOOO  OO..OO\n",
    "          OOOOOO  OOOOOO  OOOOOO  OO..OO\n",
    "          O.OO.O  OO..OO  ..OO..  OO..OO\n",
    "          O.OO.O  OO..OO  ..OO..  OOOOOO\n",
    "          O....O  OOOOOO  ..OO..  OO..OO\n",
    "          O....O  OO..OO  ..OO..  OO..OO\n",
    "          O... O  OO..OO  ..OO..  OO..OO\n",
    "          \"\"\"\n",
    "\n",
    "training = reshape(collect(charstr), :, 7)\n",
    "training = Int.(training[[1:6;9:14;17:22;25:30],:] .== 'O')\n",
    "training = reshape(training', 7*6, 4)\n",
    "target = [0 0; 0 1; 1 0; 1 1]'\n",
    "mapstr = \"MATH\";\n",
    "\n",
    "function plot_chars(images)\n",
    "    gray()\n",
    "    n_images = size(images,2)\n",
    "    for j = 1:n_images\n",
    "        subplot(ceil(Int, n_images/4), 4, j)\n",
    "        im = 1 .- reshape(images[:,j], 7, 6)\n",
    "        imshow(im); axis(\"off\");\n",
    "    end\n",
    "end\n",
    "plot_chars(training)"
   ]
  },
  {
   "cell_type": "code",
   "execution_count": 23,
   "id": "620381ea",
   "metadata": {},
   "outputs": [
    {
     "data": {
      "image/png": "[encoded data removed]",
      "text/plain": [
       "Figure(PyObject <Figure size 640x480 with 20 Axes>)"
      ]
     },
     "metadata": {},
     "output_type": "display_data"
    }
   ],
   "source": [
    "function make_testdata(training)\n",
    "    A = copy(training)\n",
    "    for i = 1:4\n",
    "        B = copy(training)\n",
    "        C = randperm(42)\n",
    "        D = randperm(42)\n",
    "        E = randperm(42)\n",
    "        F = randperm(42)\n",
    "        rand = [C D E F]\n",
    "        for j = 1:2i\n",
    "            for k = 1:4\n",
    "                B[rand[j,k],k] = 1 - B[rand[j,k],k]\n",
    "            end\n",
    "        end\n",
    "        A = [A B]\n",
    "    end\n",
    "    return A\n",
    "end\n",
    "testdata = make_testdata(training);\n",
    "plot_chars(testdata)"
   ]
  },
  {
   "cell_type": "code",
   "execution_count": null,
   "id": "dec3eff4",
   "metadata": {},
   "outputs": [],
   "source": [
    "sigma(x) = 1/(1+exp(0.5-x))\n",
    "\n",
    "function parametric_ode_system!(dx, x, p, t)\n",
    "  x, y = u\n",
    "  a1, b1, c1, d1, a2, b2, c2, d2 = p\n",
    "  du[1] = dx = a1*x + b1*y + c1*exp(-d1*t)\n",
    "  du[2] = dy = a2*x + b2*y + c2*exp(-d2*t)\n",
    "end\n"
   ]
  }
 ],
 "metadata": {
  "kernelspec": {
   "display_name": "Julia 1.6.2",
   "language": "julia",
   "name": "julia-1.6"
  },
  "language_info": {
   "file_extension": ".jl",
   "mimetype": "application/julia",
   "name": "julia",
   "version": "1.6.2"
  }
 },
 "nbformat": 4,
 "nbformat_minor": 5
}
